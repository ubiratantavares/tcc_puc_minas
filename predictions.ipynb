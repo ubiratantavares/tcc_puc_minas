{
  "nbformat": 4,
  "nbformat_minor": 0,
  "metadata": {
    "colab": {
      "provenance": [],
      "mount_file_id": "1bZC_yww93AHVP2LQ5NxyQJmD6Q3WOHb5",
      "authorship_tag": "ABX9TyP6uvGZaIDJocHeZNZpcB3E",
      "include_colab_link": true
    },
    "kernelspec": {
      "name": "python3",
      "display_name": "Python 3"
    },
    "language_info": {
      "name": "python"
    }
  },
  "cells": [
    {
      "cell_type": "markdown",
      "metadata": {
        "id": "view-in-github",
        "colab_type": "text"
      },
      "source": [
        "<a href=\"https://colab.research.google.com/github/ubiratantavares/tcc_puc_minas/blob/main/predictions.ipynb\" target=\"_parent\"><img src=\"https://colab.research.google.com/assets/colab-badge.svg\" alt=\"Open In Colab\"/></a>"
      ]
    },
    {
      "cell_type": "markdown",
      "source": [
        "# Avaliando as previsões do modelo selecionado com a base de dados de teste"
      ],
      "metadata": {
        "id": "cvrLv6TVqY_W"
      }
    },
    {
      "cell_type": "code",
      "execution_count": null,
      "metadata": {
        "id": "vXZJ3VukqXRn"
      },
      "outputs": [],
      "source": [
        "# importar bibliotecas\n",
        "import numpy as np\n",
        "import pandas as pd\n",
        "from matplotlib import pyplot as plt\n",
        "\n",
        "import seaborn as sns\n",
        "\n",
        "from collections import Counter\n",
        "\n",
        "from joblib import load\n",
        "\n",
        "from sklearn.metrics import classification_report\n",
        "from sklearn.metrics import confusion_matrix\n",
        "from sklearn.metrics import accuracy_score\n",
        "from sklearn.metrics import fbeta_score"
      ]
    },
    {
      "cell_type": "code",
      "source": [
        "# carregar base de dados\n",
        "def load_data(filename):\n",
        "  path = \"/content/drive/MyDrive/tcc/data/\"\n",
        "  path_filename = path + filename\n",
        "  return pd.read_csv(path_filename, delimiter=',')"
      ],
      "metadata": {
        "id": "JFFK9NVFKxO7"
      },
      "execution_count": null,
      "outputs": []
    },
    {
      "cell_type": "code",
      "source": [
        "# criar dataframes por meio do carregamento da base de dados de teste\n",
        "df_X_test = load_data(\"x_test.csv\")\n",
        "df_y_test = load_data(\"y_test.csv\")"
      ],
      "metadata": {
        "id": "65DuHL4g3WCU"
      },
      "execution_count": null,
      "outputs": []
    },
    {
      "cell_type": "code",
      "source": [
        "X_test = df_X_test.values\n",
        "y_test = df_y_test.values\n",
        "y_test = y_test.ravel()\n",
        "print(X_test.shape, y_test.shape)"
      ],
      "metadata": {
        "colab": {
          "base_uri": "https://localhost:8080/"
        },
        "id": "5SOTxMGBfHAI",
        "outputId": "d561b742-7ef2-43ad-ea3a-2c1b22596bd5"
      },
      "execution_count": null,
      "outputs": [
        {
          "output_type": "stream",
          "name": "stdout",
          "text": [
            "(17223, 83) (17223,)\n"
          ]
        }
      ]
    },
    {
      "cell_type": "code",
      "source": [
        "def summarize_class_distribution(atributo):\n",
        "  counter = Counter(atributo)\n",
        "  for k, v in counter.items():\n",
        "    per = v / len(atributo) * 100\n",
        "    print('Class= {}, Count= {}, Percentage= {:.2f}%'.format(k, v, per))"
      ],
      "metadata": {
        "id": "-7qAXmRWrhCQ"
      },
      "execution_count": null,
      "outputs": []
    },
    {
      "cell_type": "code",
      "source": [
        "# resumir total de cada classe do atributo alvo\n",
        "summarize_class_distribution(y_test)"
      ],
      "metadata": {
        "colab": {
          "base_uri": "https://localhost:8080/"
        },
        "id": "xLqkHY8zqoip",
        "outputId": "e6bba89f-835d-40f4-ae7e-136092f4f391"
      },
      "execution_count": null,
      "outputs": [
        {
          "output_type": "stream",
          "name": "stdout",
          "text": [
            "Class= 0, Count= 17030, Percentage= 98.88%\n",
            "Class= 1, Count= 193, Percentage= 1.12%\n"
          ]
        }
      ]
    },
    {
      "cell_type": "code",
      "source": [
        "def load_model(filename):\n",
        "  path = \"/content/drive/MyDrive/tcc/models/\"\n",
        "  path_filename = path + filename\n",
        "  return load(path_filename)"
      ],
      "metadata": {
        "id": "xfqr4E9csFbj"
      },
      "execution_count": null,
      "outputs": []
    },
    {
      "cell_type": "code",
      "source": [
        "# carregar modelo selecionado\n",
        "model_select = load_model('model_select_version1.sav')"
      ],
      "metadata": {
        "id": "5CKwryvzqomX"
      },
      "execution_count": null,
      "outputs": []
    },
    {
      "cell_type": "code",
      "source": [
        "score = model_select.score(X_test, y_test)\n",
        "print(\"Score Model: {}\".format(score))"
      ],
      "metadata": {
        "id": "bj06SeC2tUb4",
        "colab": {
          "base_uri": "https://localhost:8080/"
        },
        "outputId": "6b0bd67d-31f4-4b5d-b171-43d720cd0e55"
      },
      "execution_count": null,
      "outputs": [
        {
          "output_type": "stream",
          "name": "stdout",
          "text": [
            "Score Model: 0.9851361551413808\n"
          ]
        }
      ]
    },
    {
      "cell_type": "code",
      "source": [
        "# prever as classes com o  dados de teste no modelo selecionado\n",
        "y_pred = model_select.predict(X_test)"
      ],
      "metadata": {
        "id": "AmtIAgBKuGkO"
      },
      "execution_count": null,
      "outputs": []
    },
    {
      "cell_type": "code",
      "source": [
        "import numpy as np\n",
        "from sklearn.metrics import ConfusionMatrixDisplay\n",
        "\n",
        "def evaluate_confusion_matrix_display(y_true, y_pred, display_labels=[0,1]):\n",
        "  cm = confusion_matrix(y_true, y_pred)\n",
        "  cmp = ConfusionMatrixDisplay(cm,  display_labels=display_labels).plot()\n",
        "  cmp.plot(ax=ax)"
      ],
      "metadata": {
        "id": "rVYTvXduuyAB"
      },
      "execution_count": null,
      "outputs": []
    },
    {
      "cell_type": "code",
      "source": [
        "def evaluate_classification_report(y_true, y_pred):\n",
        "  print(classification_report(y_true, y_pred, labels=[0, 1]))"
      ],
      "metadata": {
        "id": "Job44f2ruzY-"
      },
      "execution_count": null,
      "outputs": []
    },
    {
      "cell_type": "code",
      "source": [
        "def evaluate_classification_report(y_true, y_pred):\n",
        "  cl_report = classification_report(y_true, y_pred, labels=[0, 1])\n",
        "  return cl_report"
      ],
      "metadata": {
        "id": "B_TeWtdU_NY1"
      },
      "execution_count": null,
      "outputs": []
    },
    {
      "cell_type": "code",
      "source": [
        "def evaluate_accuracy_score(y_true, y_pred):\n",
        "  print('Accuracy: {:.2f}'.format(accuracy_score(y_true, y_pred)))"
      ],
      "metadata": {
        "id": "Wf3Mh83Fw0QI"
      },
      "execution_count": null,
      "outputs": []
    },
    {
      "cell_type": "code",
      "source": [
        "def evaluate_f2_measure(y_true, y_pred):\n",
        "  print(\"F2-score: {:.2f}\".format(fbeta_score(y_true, y_pred, beta=2)))"
      ],
      "metadata": {
        "id": "wx7qox041nHX"
      },
      "execution_count": null,
      "outputs": []
    },
    {
      "cell_type": "code",
      "source": [
        "# avaliar as previsões obtidos com o modelo selecionado comparando-as com os resultados esperados da base de dados de teste por meio da precisão da classificação\n",
        "evaluate_accuracy_score(y_test, y_pred)"
      ],
      "metadata": {
        "id": "3ioKAsMdxmNm",
        "colab": {
          "base_uri": "https://localhost:8080/"
        },
        "outputId": "9e42230d-69c5-4b51-b31e-1d2222d697f4"
      },
      "execution_count": null,
      "outputs": [
        {
          "output_type": "stream",
          "name": "stdout",
          "text": [
            "Accuracy: 0.99\n"
          ]
        }
      ]
    },
    {
      "cell_type": "code",
      "source": [
        "def evaluate_confusion_matrix(y_true, y_pred):\n",
        "  cm = confusion_matrix(y_true, y_pred, labels=[0, 1])\n",
        "  return cm"
      ],
      "metadata": {
        "id": "tQRDl_KcFIfh"
      },
      "execution_count": null,
      "outputs": []
    },
    {
      "cell_type": "code",
      "source": [
        "# avaliar as previsões obtidos com o modelo selecionado comparando-as com os resultados esperados da base de dados de teste por meio da matriz de confusão\n",
        "evaluate_confusion_matrix_display(y_test, y_pred)"
      ],
      "metadata": {
        "colab": {
          "base_uri": "https://localhost:8080/",
          "height": 288
        },
        "id": "y3_eo4GGGg0d",
        "outputId": "8adfbd28-a765-4a00-c447-efdae02c45e1"
      },
      "execution_count": null,
      "outputs": [
        {
          "output_type": "display_data",
          "data": {
            "text/plain": [
              "<Figure size 432x288 with 2 Axes>"
            ],
            "image/png": "[encoded data removed]"
          },
          "metadata": {}
        }
      ]
    },
    {
      "cell_type": "code",
      "source": [
        "# avaliar as previsões obtidos com o modelo selecionado comparando-as com os resultados esperados da base de dados de teste por meio do relatório de classificação\n",
        "evaluate_classification_report(y_test, y_pred)"
      ],
      "metadata": {
        "id": "I_IQ5bC_vNYf",
        "colab": {
          "base_uri": "https://localhost:8080/"
        },
        "outputId": "a470fede-9d5d-435e-ea8b-0c077a6352d0"
      },
      "execution_count": null,
      "outputs": [
        {
          "output_type": "stream",
          "name": "stdout",
          "text": [
            "              precision    recall  f1-score   support\n",
            "\n",
            "           0       1.00      0.99      0.99     17030\n",
            "           1       0.42      0.89      0.57       193\n",
            "\n",
            "    accuracy                           0.99     17223\n",
            "   macro avg       0.71      0.94      0.78     17223\n",
            "weighted avg       0.99      0.99      0.99     17223\n",
            "\n"
          ]
        }
      ]
    },
    {
      "cell_type": "code",
      "source": [
        "!pip install sklearn-evaluation"
      ],
      "metadata": {
        "colab": {
          "base_uri": "https://localhost:8080/"
        },
        "id": "GWLUzvGQVxds",
        "outputId": "aa6abc01-e71d-42d6-f273-a2750cac2ed7"
      },
      "execution_count": null,
      "outputs": [
        {
          "output_type": "stream",
          "name": "stdout",
          "text": [
            "Looking in indexes: https://pypi.org/simple, https://us-python.pkg.dev/colab-wheels/public/simple/\n",
            "Requirement already satisfied: sklearn-evaluation in /usr/local/lib/python3.9/dist-packages (0.12.0)\n",
            "Requirement already satisfied: decorator in /usr/local/lib/python3.9/dist-packages (from sklearn-evaluation) (4.4.2)\n",
            "Requirement already satisfied: pandas in /usr/local/lib/python3.9/dist-packages (from sklearn-evaluation) (1.4.4)\n",
            "Requirement already satisfied: tabulate in /usr/local/lib/python3.9/dist-packages (from sklearn-evaluation) (0.8.10)\n",
            "Requirement already satisfied: nbformat in /usr/local/lib/python3.9/dist-packages (from sklearn-evaluation) (5.8.0)\n",
            "Requirement already satisfied: matplotlib in /usr/local/lib/python3.9/dist-packages (from sklearn-evaluation) (3.7.1)\n",
            "Requirement already satisfied: black in /usr/local/lib/python3.9/dist-packages (from sklearn-evaluation) (23.1.0)\n",
            "Requirement already satisfied: scikit-learn in /usr/local/lib/python3.9/dist-packages (from sklearn-evaluation) (1.2.2)\n",
            "Requirement already satisfied: parso in /usr/local/lib/python3.9/dist-packages (from sklearn-evaluation) (0.8.3)\n",
            "Requirement already satisfied: mistune in /usr/local/lib/python3.9/dist-packages (from sklearn-evaluation) (0.8.4)\n",
            "Requirement already satisfied: ipython in /usr/local/lib/python3.9/dist-packages (from sklearn-evaluation) (7.9.0)\n",
            "Requirement already satisfied: jinja2 in /usr/local/lib/python3.9/dist-packages (from sklearn-evaluation) (3.1.2)\n",
            "Requirement already satisfied: ploomber-core>=0.2.6 in /usr/local/lib/python3.9/dist-packages (from sklearn-evaluation) (0.2.8)\n",
            "Requirement already satisfied: posthog in /usr/local/lib/python3.9/dist-packages (from ploomber-core>=0.2.6->sklearn-evaluation) (2.4.0)\n",
            "Requirement already satisfied: click in /usr/local/lib/python3.9/dist-packages (from ploomber-core>=0.2.6->sklearn-evaluation) (8.1.3)\n",
            "Requirement already satisfied: pyyaml in /usr/local/lib/python3.9/dist-packages (from ploomber-core>=0.2.6->sklearn-evaluation) (6.0)\n",
            "Requirement already satisfied: pathspec>=0.9.0 in /usr/local/lib/python3.9/dist-packages (from black->sklearn-evaluation) (0.11.1)\n",
            "Requirement already satisfied: typing-extensions>=3.10.0.0 in /usr/local/lib/python3.9/dist-packages (from black->sklearn-evaluation) (4.5.0)\n",
            "Requirement already satisfied: packaging>=22.0 in /usr/local/lib/python3.9/dist-packages (from black->sklearn-evaluation) (23.0)\n",
            "Requirement already satisfied: tomli>=1.1.0 in /usr/local/lib/python3.9/dist-packages (from black->sklearn-evaluation) (2.0.1)\n",
            "Requirement already satisfied: platformdirs>=2 in /usr/local/lib/python3.9/dist-packages (from black->sklearn-evaluation) (3.1.1)\n",
            "Requirement already satisfied: mypy-extensions>=0.4.3 in /usr/local/lib/python3.9/dist-packages (from black->sklearn-evaluation) (1.0.0)\n",
            "Requirement already satisfied: setuptools>=18.5 in /usr/local/lib/python3.9/dist-packages (from ipython->sklearn-evaluation) (67.6.0)\n",
            "Requirement already satisfied: prompt-toolkit<2.1.0,>=2.0.0 in /usr/local/lib/python3.9/dist-packages (from ipython->sklearn-evaluation) (2.0.10)\n",
            "Requirement already satisfied: traitlets>=4.2 in /usr/local/lib/python3.9/dist-packages (from ipython->sklearn-evaluation) (5.7.1)\n",
            "Requirement already satisfied: pygments in /usr/local/lib/python3.9/dist-packages (from ipython->sklearn-evaluation) (2.14.0)\n",
            "Requirement already satisfied: pexpect in /usr/local/lib/python3.9/dist-packages (from ipython->sklearn-evaluation) (4.8.0)\n",
            "Requirement already satisfied: pickleshare in /usr/local/lib/python3.9/dist-packages (from ipython->sklearn-evaluation) (0.7.5)\n",
            "Requirement already satisfied: backcall in /usr/local/lib/python3.9/dist-packages (from ipython->sklearn-evaluation) (0.2.0)\n",
            "Requirement already satisfied: jedi>=0.10 in /usr/local/lib/python3.9/dist-packages (from ipython->sklearn-evaluation) (0.18.2)\n",
            "Requirement already satisfied: MarkupSafe>=2.0 in /usr/local/lib/python3.9/dist-packages (from jinja2->sklearn-evaluation) (2.1.2)\n",
            "Requirement already satisfied: importlib-resources>=3.2.0 in /usr/local/lib/python3.9/dist-packages (from matplotlib->sklearn-evaluation) (5.12.0)\n",
            "Requirement already satisfied: python-dateutil>=2.7 in /usr/local/lib/python3.9/dist-packages (from matplotlib->sklearn-evaluation) (2.8.2)\n",
            "Requirement already satisfied: fonttools>=4.22.0 in /usr/local/lib/python3.9/dist-packages (from matplotlib->sklearn-evaluation) (4.39.2)\n",
            "Requirement already satisfied: numpy>=1.20 in /usr/local/lib/python3.9/dist-packages (from matplotlib->sklearn-evaluation) (1.22.4)\n",
            "Requirement already satisfied: contourpy>=1.0.1 in /usr/local/lib/python3.9/dist-packages (from matplotlib->sklearn-evaluation) (1.0.7)\n",
            "Requirement already satisfied: pillow>=6.2.0 in /usr/local/lib/python3.9/dist-packages (from matplotlib->sklearn-evaluation) (8.4.0)\n",
            "Requirement already satisfied: pyparsing>=2.3.1 in /usr/local/lib/python3.9/dist-packages (from matplotlib->sklearn-evaluation) (3.0.9)\n",
            "Requirement already satisfied: cycler>=0.10 in /usr/local/lib/python3.9/dist-packages (from matplotlib->sklearn-evaluation) (0.11.0)\n",
            "Requirement already satisfied: kiwisolver>=1.0.1 in /usr/local/lib/python3.9/dist-packages (from matplotlib->sklearn-evaluation) (1.4.4)\n",
            "Requirement already satisfied: jupyter-core in /usr/local/lib/python3.9/dist-packages (from nbformat->sklearn-evaluation) (5.3.0)\n",
            "Requirement already satisfied: fastjsonschema in /usr/local/lib/python3.9/dist-packages (from nbformat->sklearn-evaluation) (2.16.3)\n",
            "Requirement already satisfied: jsonschema>=2.6 in /usr/local/lib/python3.9/dist-packages (from nbformat->sklearn-evaluation) (4.3.3)\n",
            "Requirement already satisfied: pytz>=2020.1 in /usr/local/lib/python3.9/dist-packages (from pandas->sklearn-evaluation) (2022.7.1)\n",
            "Requirement already satisfied: threadpoolctl>=2.0.0 in /usr/local/lib/python3.9/dist-packages (from scikit-learn->sklearn-evaluation) (3.1.0)\n",
            "Requirement already satisfied: scipy>=1.3.2 in /usr/local/lib/python3.9/dist-packages (from scikit-learn->sklearn-evaluation) (1.10.1)\n",
            "Requirement already satisfied: joblib>=1.1.1 in /usr/local/lib/python3.9/dist-packages (from scikit-learn->sklearn-evaluation) (1.1.1)\n",
            "Requirement already satisfied: zipp>=3.1.0 in /usr/local/lib/python3.9/dist-packages (from importlib-resources>=3.2.0->matplotlib->sklearn-evaluation) (3.15.0)\n",
            "Requirement already satisfied: attrs>=17.4.0 in /usr/local/lib/python3.9/dist-packages (from jsonschema>=2.6->nbformat->sklearn-evaluation) (22.2.0)\n",
            "Requirement already satisfied: pyrsistent!=0.17.0,!=0.17.1,!=0.17.2,>=0.14.0 in /usr/local/lib/python3.9/dist-packages (from jsonschema>=2.6->nbformat->sklearn-evaluation) (0.19.3)\n",
            "Requirement already satisfied: six>=1.9.0 in /usr/local/lib/python3.9/dist-packages (from prompt-toolkit<2.1.0,>=2.0.0->ipython->sklearn-evaluation) (1.16.0)\n",
            "Requirement already satisfied: wcwidth in /usr/local/lib/python3.9/dist-packages (from prompt-toolkit<2.1.0,>=2.0.0->ipython->sklearn-evaluation) (0.2.6)\n",
            "Requirement already satisfied: ptyprocess>=0.5 in /usr/local/lib/python3.9/dist-packages (from pexpect->ipython->sklearn-evaluation) (0.7.0)\n",
            "Requirement already satisfied: backoff>=1.10.0 in /usr/local/lib/python3.9/dist-packages (from posthog->ploomber-core>=0.2.6->sklearn-evaluation) (2.2.1)\n",
            "Requirement already satisfied: monotonic>=1.5 in /usr/local/lib/python3.9/dist-packages (from posthog->ploomber-core>=0.2.6->sklearn-evaluation) (1.6)\n",
            "Requirement already satisfied: requests<3.0,>=2.7 in /usr/local/lib/python3.9/dist-packages (from posthog->ploomber-core>=0.2.6->sklearn-evaluation) (2.27.1)\n",
            "Requirement already satisfied: charset-normalizer~=2.0.0 in /usr/local/lib/python3.9/dist-packages (from requests<3.0,>=2.7->posthog->ploomber-core>=0.2.6->sklearn-evaluation) (2.0.12)\n",
            "Requirement already satisfied: idna<4,>=2.5 in /usr/local/lib/python3.9/dist-packages (from requests<3.0,>=2.7->posthog->ploomber-core>=0.2.6->sklearn-evaluation) (3.4)\n",
            "Requirement already satisfied: urllib3<1.27,>=1.21.1 in /usr/local/lib/python3.9/dist-packages (from requests<3.0,>=2.7->posthog->ploomber-core>=0.2.6->sklearn-evaluation) (1.26.15)\n",
            "Requirement already satisfied: certifi>=2017.4.17 in /usr/local/lib/python3.9/dist-packages (from requests<3.0,>=2.7->posthog->ploomber-core>=0.2.6->sklearn-evaluation) (2022.12.7)\n"
          ]
        }
      ]
    },
    {
      "cell_type": "code",
      "source": [
        "from sklearn_evaluation import plot"
      ],
      "metadata": {
        "id": "rqGzEPbJVM1Q"
      },
      "execution_count": null,
      "outputs": []
    },
    {
      "cell_type": "code",
      "source": [
        "target_names = [\"0\", \"1\"]\n",
        "\n",
        "cr = plot.ClassificationReport.from_raw_data(y_test, y_pred, target_names=target_names)\n",
        "cr"
      ],
      "metadata": {
        "colab": {
          "base_uri": "https://localhost:8080/",
          "height": 271
        },
        "id": "cTOMV9lDURPH",
        "outputId": "59219b2a-5abf-496a-b9bb-695d6d5b45d3"
      },
      "execution_count": null,
      "outputs": [
        {
          "output_type": "execute_result",
          "data": {
            "text/plain": [
              "<sklearn_evaluation.plot.classification_report.ClassificationReport at 0x7f2eedece970>"
            ]
          },
          "metadata": {},
          "execution_count": 191
        },
        {
          "output_type": "display_data",
          "data": {
            "text/plain": [
              "<Figure size 432x288 with 1 Axes>"
            ],
            "image/png": "[encoded data removed]"
          },
          "metadata": {}
        }
      ]
    },
    {
      "cell_type": "code",
      "source": [
        "# avaliar as previsões obtidos com o modelo selecionado comparando-as com os resultados esperados da base de dados de teste por meio da métrica f2\n",
        "evaluate_f2_measure(y_test, y_pred)"
      ],
      "metadata": {
        "id": "LmORe4f72FnK",
        "colab": {
          "base_uri": "https://localhost:8080/"
        },
        "outputId": "482d5237-3ecc-4445-e829-ee414be49c01"
      },
      "execution_count": null,
      "outputs": [
        {
          "output_type": "stream",
          "name": "stdout",
          "text": [
            "F2-Measure: 0.73\n"
          ]
        }
      ]
    }
  ]
}