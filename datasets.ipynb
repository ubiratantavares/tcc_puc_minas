{
  "cells": [
    {
      "cell_type": "markdown",
      "metadata": {
        "id": "view-in-github",
        "colab_type": "text"
      },
      "source": [
        "<a href=\"https://colab.research.google.com/github/ubiratantavares/tcc_puc_minas/blob/main/datasets.ipynb\" target=\"_parent\"><img src=\"https://colab.research.google.com/assets/colab-badge.svg\" alt=\"Open In Colab\"/></a>"
      ]
    },
    {
      "cell_type": "markdown",
      "metadata": {
        "id": "Sfj49WNiJz1t"
      },
      "source": [
        "# Criação do conjunto de dados de treinamento e teste "
      ]
    },
    {
      "cell_type": "code",
      "execution_count": null,
      "metadata": {
        "id": "wyJE5jNK21f6"
      },
      "outputs": [],
      "source": [
        "# importar bibliotecas\n",
        "import numpy as np\n",
        "import pandas as pd\n",
        "from sklearn.preprocessing import OneHotEncoder\n",
        "from sklearn.model_selection import train_test_split"
      ]
    },
    {
      "cell_type": "code",
      "execution_count": null,
      "metadata": {
        "id": "JFFK9NVFKxO7"
      },
      "outputs": [],
      "source": [
        "# carregar base de dados\n",
        "def load_data(filename):\n",
        "  path = \"/content/drive/MyDrive/tcc/data/\"\n",
        "  path_filename = path + filename\n",
        "  return pd.read_csv(path_filename, delimiter=',')"
      ]
    },
    {
      "cell_type": "code",
      "execution_count": null,
      "metadata": {
        "id": "65DuHL4g3WCU"
      },
      "outputs": [],
      "source": [
        "# criar dataframe por meio do carregamento da base de dados\n",
        "df = load_data(\"dados_tratados.csv\")"
      ]
    },
    {
      "cell_type": "code",
      "execution_count": null,
      "metadata": {
        "colab": {
          "base_uri": "https://localhost:8080/",
          "height": 206
        },
        "id": "kGARt5C13suB",
        "outputId": "944973f9-0c1b-4b9f-c983-2a12fac74ccd"
      },
      "outputs": [
        {
          "output_type": "execute_result",
          "data": {
            "text/plain": [
              "     FP  Trimestre  Mes  Semana  Dia  Hora  Minuto  Evento\n",
              "0  0.78          3    7       2   18     0       0       0\n",
              "1  0.78          3    7       2   18     0      15       0\n",
              "2  0.78          3    7       2   18     0      30       0\n",
              "3  0.71          3    7       2   18     0      45       0\n",
              "4  0.60          3    7       2   18     1       0       0"
            ],
            "text/html": [
              "\n",
              "  <div id=\"df-561b163e-6239-4983-baf3-1f7a31e3209c\">\n",
              "    <div class=\"colab-df-container\">\n",
              "      <div>\n",
              "<style scoped>\n",
              "    .dataframe tbody tr th:only-of-type {\n",
              "        vertical-align: middle;\n",
              "    }\n",
              "\n",
              "    .dataframe tbody tr th {\n",
              "        vertical-align: top;\n",
              "    }\n",
              "\n",
              "    .dataframe thead th {\n",
              "        text-align: right;\n",
              "    }\n",
              "</style>\n",
              "<table border=\"1\" class=\"dataframe\">\n",
              "  <thead>\n",
              "    <tr style=\"text-align: right;\">\n",
              "      <th></th>\n",
              "      <th>FP</th>\n",
              "      <th>Trimestre</th>\n",
              "      <th>Mes</th>\n",
              "      <th>Semana</th>\n",
              "      <th>Dia</th>\n",
              "      <th>Hora</th>\n",
              "      <th>Minuto</th>\n",
              "      <th>Evento</th>\n",
              "    </tr>\n",
              "  </thead>\n",
              "  <tbody>\n",
              "    <tr>\n",
              "      <th>0</th>\n",
              "      <td>0.78</td>\n",
              "      <td>3</td>\n",
              "      <td>7</td>\n",
              "      <td>2</td>\n",
              "      <td>18</td>\n",
              "      <td>0</td>\n",
              "      <td>0</td>\n",
              "      <td>0</td>\n",
              "    </tr>\n",
              "    <tr>\n",
              "      <th>1</th>\n",
              "      <td>0.78</td>\n",
              "      <td>3</td>\n",
              "      <td>7</td>\n",
              "      <td>2</td>\n",
              "      <td>18</td>\n",
              "      <td>0</td>\n",
              "      <td>15</td>\n",
              "      <td>0</td>\n",
              "    </tr>\n",
              "    <tr>\n",
              "      <th>2</th>\n",
              "      <td>0.78</td>\n",
              "      <td>3</td>\n",
              "      <td>7</td>\n",
              "      <td>2</td>\n",
              "      <td>18</td>\n",
              "      <td>0</td>\n",
              "      <td>30</td>\n",
              "      <td>0</td>\n",
              "    </tr>\n",
              "    <tr>\n",
              "      <th>3</th>\n",
              "      <td>0.71</td>\n",
              "      <td>3</td>\n",
              "      <td>7</td>\n",
              "      <td>2</td>\n",
              "      <td>18</td>\n",
              "      <td>0</td>\n",
              "      <td>45</td>\n",
              "      <td>0</td>\n",
              "    </tr>\n",
              "    <tr>\n",
              "      <th>4</th>\n",
              "      <td>0.60</td>\n",
              "      <td>3</td>\n",
              "      <td>7</td>\n",
              "      <td>2</td>\n",
              "      <td>18</td>\n",
              "      <td>1</td>\n",
              "      <td>0</td>\n",
              "      <td>0</td>\n",
              "    </tr>\n",
              "  </tbody>\n",
              "</table>\n",
              "</div>\n",
              "      <button class=\"colab-df-convert\" onclick=\"convertToInteractive('df-561b163e-6239-4983-baf3-1f7a31e3209c')\"\n",
              "              title=\"Convert this dataframe to an interactive table.\"\n",
              "              style=\"display:none;\">\n",
              "        \n",
              "  <svg xmlns=\"http://www.w3.org/2000/svg\" height=\"24px\"viewBox=\"0 0 24 24\"\n",
              "       width=\"24px\">\n",
              "    <path d=\"M0 0h24v24H0V0z\" fill=\"none\"/>\n",
              "    <path d=\"M18.56 5.44l.94 2.06.94-2.06 2.06-.94-2.06-.94-.94-2.06-.94 2.06-2.06.94zm-11 1L8.5 8.5l.94-2.06 2.06-.94-2.06-.94L8.5 2.5l-.94 2.06-2.06.94zm10 10l.94 2.06.94-2.06 2.06-.94-2.06-.94-.94-2.06-.94 2.06-2.06.94z\"/><path d=\"M17.41 7.96l-1.37-1.37c-.4-.4-.92-.59-1.43-.59-.52 0-1.04.2-1.43.59L10.3 9.45l-7.72 7.72c-.78.78-.78 2.05 0 2.83L4 21.41c.39.39.9.59 1.41.59.51 0 1.02-.2 1.41-.59l7.78-7.78 2.81-2.81c.8-.78.8-2.07 0-2.86zM5.41 20L4 18.59l7.72-7.72 1.47 1.35L5.41 20z\"/>\n",
              "  </svg>\n",
              "      </button>\n",
              "      \n",
              "  <style>\n",
              "    .colab-df-container {\n",
              "      display:flex;\n",
              "      flex-wrap:wrap;\n",
              "      gap: 12px;\n",
              "    }\n",
              "\n",
              "    .colab-df-convert {\n",
              "      background-color: #E8F0FE;\n",
              "      border: none;\n",
              "      border-radius: 50%;\n",
              "      cursor: pointer;\n",
              "      display: none;\n",
              "      fill: #1967D2;\n",
              "      height: 32px;\n",
              "      padding: 0 0 0 0;\n",
              "      width: 32px;\n",
              "    }\n",
              "\n",
              "    .colab-df-convert:hover {\n",
              "      background-color: #E2EBFA;\n",
              "      box-shadow: 0px 1px 2px rgba(60, 64, 67, 0.3), 0px 1px 3px 1px rgba(60, 64, 67, 0.15);\n",
              "      fill: #174EA6;\n",
              "    }\n",
              "\n",
              "    [theme=dark] .colab-df-convert {\n",
              "      background-color: #3B4455;\n",
              "      fill: #D2E3FC;\n",
              "    }\n",
              "\n",
              "    [theme=dark] .colab-df-convert:hover {\n",
              "      background-color: #434B5C;\n",
              "      box-shadow: 0px 1px 3px 1px rgba(0, 0, 0, 0.15);\n",
              "      filter: drop-shadow(0px 1px 2px rgba(0, 0, 0, 0.3));\n",
              "      fill: #FFFFFF;\n",
              "    }\n",
              "  </style>\n",
              "\n",
              "      <script>\n",
              "        const buttonEl =\n",
              "          document.querySelector('#df-561b163e-6239-4983-baf3-1f7a31e3209c button.colab-df-convert');\n",
              "        buttonEl.style.display =\n",
              "          google.colab.kernel.accessAllowed ? 'block' : 'none';\n",
              "\n",
              "        async function convertToInteractive(key) {\n",
              "          const element = document.querySelector('#df-561b163e-6239-4983-baf3-1f7a31e3209c');\n",
              "          const dataTable =\n",
              "            await google.colab.kernel.invokeFunction('convertToInteractive',\n",
              "                                                     [key], {});\n",
              "          if (!dataTable) return;\n",
              "\n",
              "          const docLinkHtml = 'Like what you see? Visit the ' +\n",
              "            '<a target=\"_blank\" href=https://colab.research.google.com/notebooks/data_table.ipynb>data table notebook</a>'\n",
              "            + ' to learn more about interactive tables.';\n",
              "          element.innerHTML = '';\n",
              "          dataTable['output_type'] = 'display_data';\n",
              "          await google.colab.output.renderOutput(dataTable, element);\n",
              "          const docLink = document.createElement('div');\n",
              "          docLink.innerHTML = docLinkHtml;\n",
              "          element.appendChild(docLink);\n",
              "        }\n",
              "      </script>\n",
              "    </div>\n",
              "  </div>\n",
              "  "
            ]
          },
          "metadata": {},
          "execution_count": 276
        }
      ],
      "source": [
        "# verificar as 5 primeiras linhas da base de dados\n",
        "df.head()"
      ]
    },
    {
      "cell_type": "code",
      "execution_count": null,
      "metadata": {
        "colab": {
          "base_uri": "https://localhost:8080/"
        },
        "id": "7FcOuF_xOLcq",
        "outputId": "190eae98-26b3-4f79-a576-18682a5bd103"
      },
      "outputs": [
        {
          "output_type": "execute_result",
          "data": {
            "text/plain": [
              "array([[ 0.78,  3.  ,  7.  , ..., 18.  ,  0.  ,  0.  ],\n",
              "       [ 0.78,  3.  ,  7.  , ..., 18.  ,  0.  , 15.  ],\n",
              "       [ 0.78,  3.  ,  7.  , ..., 18.  ,  0.  , 30.  ],\n",
              "       ...,\n",
              "       [ 0.83,  4.  , 12.  , ..., 31.  , 23.  , 30.  ],\n",
              "       [ 0.84,  4.  , 12.  , ..., 31.  , 23.  , 45.  ],\n",
              "       [ 0.82,  1.  ,  1.  , ...,  1.  ,  0.  ,  0.  ]])"
            ]
          },
          "metadata": {},
          "execution_count": 277
        }
      ],
      "source": [
        "# definir os atributos previsores\n",
        "X =  df[[\"FP\", \"Trimestre\", \"Mes\", \"Semana\", \"Dia\", \"Hora\", \"Minuto\"]]\n",
        "X = X.values\n",
        "X"
      ]
    },
    {
      "cell_type": "code",
      "execution_count": null,
      "metadata": {
        "colab": {
          "base_uri": "https://localhost:8080/"
        },
        "id": "aBQodMDXRHWs",
        "outputId": "cee39a13-d160-4c0e-bc48-e4e257aeb2e4"
      },
      "outputs": [
        {
          "output_type": "execute_result",
          "data": {
            "text/plain": [
              "array([0, 0, 0, ..., 0, 0, 0])"
            ]
          },
          "metadata": {},
          "execution_count": 278
        }
      ],
      "source": [
        "# definir o atributo alvo\n",
        "y = df[\"Evento\"]\n",
        "y = y.values\n",
        "y"
      ]
    },
    {
      "cell_type": "code",
      "execution_count": null,
      "metadata": {
        "colab": {
          "base_uri": "https://localhost:8080/"
        },
        "id": "kW3k4NHuTfK-",
        "outputId": "b0107d09-63c3-4d9e-cd93-553acecd6fff"
      },
      "outputs": [
        {
          "output_type": "execute_result",
          "data": {
            "text/plain": [
              "array([[0.78],\n",
              "       [0.78],\n",
              "       [0.78],\n",
              "       ...,\n",
              "       [0.83],\n",
              "       [0.84],\n",
              "       [0.82]])"
            ]
          },
          "metadata": {},
          "execution_count": 279
        }
      ],
      "source": [
        "# separar os atributos previsores em partes\n",
        "X1 = X[:, :1]\n",
        "X1"
      ]
    },
    {
      "cell_type": "code",
      "execution_count": null,
      "metadata": {
        "colab": {
          "base_uri": "https://localhost:8080/"
        },
        "id": "PdDqK3TmUVVz",
        "outputId": "574c316e-9e21-4d18-b004-b1bc8eb5076d"
      },
      "outputs": [
        {
          "output_type": "execute_result",
          "data": {
            "text/plain": [
              "array([[ 3.,  7.,  2., 18.,  0.,  0.],\n",
              "       [ 3.,  7.,  2., 18.,  0., 15.],\n",
              "       [ 3.,  7.,  2., 18.,  0., 30.],\n",
              "       ...,\n",
              "       [ 4., 12.,  3., 31., 23., 30.],\n",
              "       [ 4., 12.,  3., 31., 23., 45.],\n",
              "       [ 1.,  1.,  4.,  1.,  0.,  0.]])"
            ]
          },
          "metadata": {},
          "execution_count": 280
        }
      ],
      "source": [
        "X2 = X[:, 1:7]\n",
        "X2"
      ]
    },
    {
      "cell_type": "code",
      "execution_count": null,
      "metadata": {
        "colab": {
          "base_uri": "https://localhost:8080/"
        },
        "id": "oE8oKR-zPc2d",
        "outputId": "a9c85a46-7883-49aa-c270-0aad1e5de237"
      },
      "outputs": [
        {
          "output_type": "execute_result",
          "data": {
            "text/plain": [
              "(86113, 82)"
            ]
          },
          "metadata": {},
          "execution_count": 281
        }
      ],
      "source": [
        "# aplicar codificação \"one-hot\" nos atributos de X2\n",
        "\n",
        "one_hot_encoder = OneHotEncoder(sparse_output=False)\n",
        "X2 = one_hot_encoder.fit_transform(X2)\n",
        "X2.shape"
      ]
    },
    {
      "cell_type": "code",
      "execution_count": null,
      "metadata": {
        "colab": {
          "base_uri": "https://localhost:8080/"
        },
        "id": "z0VD9MfzYjjU",
        "outputId": "d1c0ba6d-70f0-45b7-cc30-ec2862dae3f9"
      },
      "outputs": [
        {
          "output_type": "execute_result",
          "data": {
            "text/plain": [
              "array([[0.  , 0.  , 1.  , ..., 0.  , 0.  , 0.78],\n",
              "       [0.  , 0.  , 1.  , ..., 0.  , 0.  , 0.78],\n",
              "       [0.  , 0.  , 1.  , ..., 1.  , 0.  , 0.78],\n",
              "       ...,\n",
              "       [0.  , 0.  , 0.  , ..., 1.  , 0.  , 0.83],\n",
              "       [0.  , 0.  , 0.  , ..., 0.  , 1.  , 0.84],\n",
              "       [1.  , 0.  , 0.  , ..., 0.  , 0.  , 0.82]])"
            ]
          },
          "metadata": {},
          "execution_count": 282
        }
      ],
      "source": [
        "# junção de X1 e X2\n",
        "X = np.column_stack([X2, X1])\n",
        "X.shape\n",
        "X"
      ]
    },
    {
      "cell_type": "code",
      "execution_count": null,
      "metadata": {
        "id": "sIIM2c3yVqp4"
      },
      "outputs": [],
      "source": [
        "# dividir os atributos previsores e alvo em 80% dos dados para treinamento e 20% dos dados para teste\n",
        "X_train, X_test, y_train, y_test = train_test_split(X, y, test_size=0.2, random_state=1)"
      ]
    },
    {
      "cell_type": "code",
      "execution_count": null,
      "metadata": {
        "id": "FFJMbwZvZtgD"
      },
      "outputs": [],
      "source": [
        "# criar dataframes dos dados de treinamento\n",
        "df_X_train = pd.DataFrame(X_train)\n",
        "df_y_train = pd.DataFrame(y_train)\n",
        "\n",
        "# criar dataframes dos dados de teste\n",
        "df_X_test = pd.DataFrame(X_test)\n",
        "df_y_test = pd.DataFrame(y_test)"
      ]
    },
    {
      "cell_type": "code",
      "execution_count": null,
      "metadata": {
        "id": "v3ZeeV5BaHqK"
      },
      "outputs": [],
      "source": [
        "# salvar dataframe em arquivo csv\n",
        "def save_data(df, filename):\n",
        "  path = \"/content/drive/MyDrive/tcc/data/\"\n",
        "  path_filename = path + filename\n",
        "  df.to_csv(path_filename, index=False)\n",
        "  return None"
      ]
    },
    {
      "cell_type": "code",
      "execution_count": null,
      "metadata": {
        "id": "4m1ofsJeZtGY"
      },
      "outputs": [],
      "source": [
        "# salvar dataframes\n",
        "save_data(df_X_train, \"x_train.csv\")\n",
        "save_data(df_y_train, \"y_train.csv\")\n",
        "save_data(df_X_test, \"x_test.csv\")\n",
        "save_data(df_y_test, \"y_test.csv\")"
      ]
    }
  ],
  "metadata": {
    "colab": {
      "provenance": [],
      "mount_file_id": "1t89R81MG4eW-mB736zQIauIm_nTUaKaF",
      "authorship_tag": "ABX9TyNwGTjRXMQplCm9ImWWtZQd",
      "include_colab_link": true
    },
    "kernelspec": {
      "display_name": "Python 3",
      "name": "python3"
    },
    "language_info": {
      "name": "python"
    }
  },
  "nbformat": 4,
  "nbformat_minor": 0
}