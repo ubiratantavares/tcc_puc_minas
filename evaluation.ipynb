{
  "cells": [
    {
      "cell_type": "markdown",
      "metadata": {
        "id": "view-in-github",
        "colab_type": "text"
      },
      "source": [
        "<a href=\"https://colab.research.google.com/github/ubiratantavares/tcc_puc_minas/blob/main/evaluation.ipynb\" target=\"_parent\"><img src=\"https://colab.research.google.com/assets/colab-badge.svg\" alt=\"Open In Colab\"/></a>"
      ]
    },
    {
      "cell_type": "markdown",
      "metadata": {
        "id": "Kn-wOxDFbnLv"
      },
      "source": [
        "# Avaliação dos modelos candidatos"
      ]
    },
    {
      "cell_type": "code",
      "execution_count": null,
      "metadata": {
        "id": "wyJE5jNK21f6"
      },
      "outputs": [],
      "source": [
        "# importar bibliotecas\n",
        "import numpy as np\n",
        "import pandas as pd\n",
        "from matplotlib import pyplot as plt\n",
        "\n",
        "from sklearn.metrics import fbeta_score\n",
        "from sklearn.metrics import make_scorer\n",
        "\n",
        "from sklearn.model_selection import RepeatedStratifiedKFold\n",
        "from sklearn.model_selection import cross_val_score\n",
        "\n",
        "from collections import Counter\n",
        "\n",
        "from sklearn.linear_model import LogisticRegression\n",
        "from sklearn.tree import DecisionTreeClassifier\n",
        "from sklearn.svm import SVC\n",
        "from sklearn.ensemble import RandomForestClassifier\n",
        "\n",
        "from joblib import dump"
      ]
    },
    {
      "cell_type": "code",
      "execution_count": null,
      "metadata": {
        "id": "JFFK9NVFKxO7"
      },
      "outputs": [],
      "source": [
        "# carregar base de dados\n",
        "def load_data(filename):\n",
        "  path = \"/content/drive/MyDrive/tcc/data/\"\n",
        "  path_filename = path + filename\n",
        "  return pd.read_csv(path_filename, delimiter=',')"
      ]
    },
    {
      "cell_type": "code",
      "execution_count": null,
      "metadata": {
        "id": "65DuHL4g3WCU"
      },
      "outputs": [],
      "source": [
        "# criar dataframes por meio do carregamento da base de dados\n",
        "df_X_train = load_data(\"x_train.csv\")\n",
        "df_y_train = load_data(\"y_train.csv\")"
      ]
    },
    {
      "cell_type": "code",
      "execution_count": null,
      "metadata": {
        "colab": {
          "base_uri": "https://localhost:8080/"
        },
        "id": "5SOTxMGBfHAI",
        "outputId": "0f2861d6-a0f1-4d28-c177-0084b88784b1"
      },
      "outputs": [
        {
          "output_type": "stream",
          "name": "stdout",
          "text": [
            "(68890, 83) (68890,)\n"
          ]
        }
      ],
      "source": [
        "X_train = df_X_train.values\n",
        "y_train = df_y_train.values\n",
        "y_train = y_train.ravel()\n",
        "print(X_train.shape, y_train.shape)"
      ]
    },
    {
      "cell_type": "code",
      "source": [
        "def summarize_class_distribution(atributo):\n",
        "  counter = Counter(atributo)\n",
        "  for k, v in counter.items():\n",
        "    per = v / len(atributo) * 100\n",
        "    print('Class= {}, Count= {}, Percentage= {:.2f}%'.format(k, v, per))"
      ],
      "metadata": {
        "id": "ftNx5Q4VFXZD"
      },
      "execution_count": null,
      "outputs": []
    },
    {
      "cell_type": "code",
      "source": [
        "# resumir total de cada classe do atributo alvo\n",
        "summarize_class_distribution(y_train)"
      ],
      "metadata": {
        "colab": {
          "base_uri": "https://localhost:8080/"
        },
        "id": "IBcqLobQFaHm",
        "outputId": "4b482b89-d3b1-468b-edfb-1dc7b1c31f6e"
      },
      "execution_count": null,
      "outputs": [
        {
          "output_type": "stream",
          "name": "stdout",
          "text": [
            "Class= 0, Count= 68174, Percentage= 98.96%\n",
            "Class= 1, Count= 716, Percentage= 1.04%\n"
          ]
        }
      ]
    },
    {
      "cell_type": "code",
      "execution_count": null,
      "metadata": {
        "colab": {
          "base_uri": "https://localhost:8080/"
        },
        "id": "nwQjdJ8Je5WM",
        "outputId": "0eebc6b2-819a-42bf-dd14-47549749c3fc"
      },
      "outputs": [
        {
          "output_type": "execute_result",
          "data": {
            "text/plain": [
              "83"
            ]
          },
          "metadata": {},
          "execution_count": 6
        }
      ],
      "source": [
        "# definir quantidade de recursos\n",
        "n_features = X_train.shape[1]\n",
        "n_features"
      ]
    },
    {
      "cell_type": "code",
      "execution_count": null,
      "metadata": {
        "id": "PhxdzVspfoCh"
      },
      "outputs": [],
      "source": [
        "# definir configuração do argumento \"class_weight\" \n",
        "weight = \"balanced\""
      ]
    },
    {
      "cell_type": "code",
      "execution_count": null,
      "metadata": {
        "id": "ixTTBIT8gXmF"
      },
      "outputs": [],
      "source": [
        "# calculate f2 score\n",
        "def f2(y_true, y_pred):\n",
        "  return fbeta_score(y_true, y_pred, beta=2)"
      ]
    },
    {
      "cell_type": "code",
      "execution_count": null,
      "metadata": {
        "id": "CQrHOoX3gEJI"
      },
      "outputs": [],
      "source": [
        "# definir a métrica  para avaliação dos modelos candidatos\n",
        "metric = make_scorer(f2)"
      ]
    },
    {
      "cell_type": "code",
      "execution_count": null,
      "metadata": {
        "id": "SsNsZrWAg73H"
      },
      "outputs": [],
      "source": [
        "def define_evaluation_procedure(n_splits=10, n_repeats=3, random_state=1):\n",
        "  return RepeatedStratifiedKFold(n_splits=n_splits, n_repeats=n_repeats, random_state=random_state)"
      ]
    },
    {
      "cell_type": "code",
      "execution_count": null,
      "metadata": {
        "id": "5CSsshAvgr73"
      },
      "outputs": [],
      "source": [
        "# definir procedimento da avaliação\n",
        "cv = define_evaluation_procedure()"
      ]
    },
    {
      "cell_type": "code",
      "execution_count": null,
      "metadata": {
        "id": "IruFyNPAhqgU"
      },
      "outputs": [],
      "source": [
        "def get_models(weight):\n",
        "  return  {'LR': LogisticRegression(solver='lbfgs', max_iter=100_000, class_weight=weight), \n",
        "              'DT': DecisionTreeClassifier(class_weight=weight),  \n",
        "              'SVM': SVC(gamma='scale', class_weight=weight, probability=True),\n",
        "              'RF': RandomForestClassifier(n_estimators=10, class_weight=weight)}"
      ]
    },
    {
      "cell_type": "code",
      "execution_count": null,
      "metadata": {
        "id": "d53OgvScgsF1"
      },
      "outputs": [],
      "source": [
        "# definir modelos candidatos\n",
        "models_dict = get_models(weight)"
      ]
    },
    {
      "cell_type": "code",
      "execution_count": null,
      "metadata": {
        "id": "-YoqNFoeihbi"
      },
      "outputs": [],
      "source": [
        "def evaluate_model(model, X, y, scoring, cv):\n",
        " return cross_val_score(model, X, y, scoring=scoring, cv=cv, n_jobs=-1, error_score='raise')"
      ]
    },
    {
      "cell_type": "code",
      "execution_count": null,
      "metadata": {
        "id": "lH-DGuXSiiJf"
      },
      "outputs": [],
      "source": [
        "def summarize_performance(scores):\n",
        "  return np.mean(scores), np.std(scores)"
      ]
    },
    {
      "cell_type": "code",
      "execution_count": null,
      "metadata": {
        "id": "NHLh2Iq0ilo7"
      },
      "outputs": [],
      "source": [
        "def print_summarize_performance(name_model, mean_scores, std_scores):\n",
        "  print('{}: {:.3f} +/- {:.3f}'.format(name_model, mean_scores, std_scores))"
      ]
    },
    {
      "cell_type": "code",
      "execution_count": null,
      "metadata": {
        "id": "pgwla7Ajibqz"
      },
      "outputs": [],
      "source": [
        "def evaluate_each_model(models_dict, X, y, scoring, cv):\n",
        "  results_scores = list()\n",
        "  \n",
        "  for name, model in models_dict.items():\n",
        "  \n",
        "    # avaliar modelo candidato\n",
        "    scores = evaluate_model(model, X, y, scoring, cv)\n",
        "\n",
        "    # resumir performance do modelo candidato\n",
        "    mean_scores, std_scores = summarize_performance(scores)\n",
        "\n",
        "    # imprimir resumo da performance do modelo candidato\n",
        "    print_summarize_performance(name, mean_scores, std_scores)\n",
        "\n",
        "    dic = {'name': name, 'model': model, 'mean': mean_scores, 'std': std_scores, 'scores': scores}\n",
        "    \n",
        "    results_scores.append(dic)\n",
        "    \n",
        "  results_scores_order = sorted(results_scores, key=lambda dicionario: dicionario['mean'], reverse=True)\n",
        "    \n",
        "  return results_scores_order"
      ]
    },
    {
      "cell_type": "code",
      "execution_count": null,
      "metadata": {
        "colab": {
          "base_uri": "https://localhost:8080/"
        },
        "id": "piAVcVCliNMU",
        "outputId": "2b3176d3-103a-4603-b529-3599e2f80437"
      },
      "outputs": [
        {
          "output_type": "stream",
          "name": "stdout",
          "text": [
            "LR: 0.351 +/- 0.013\n",
            "DT: 0.595 +/- 0.062\n"
          ]
        },
        {
          "output_type": "stream",
          "name": "stderr",
          "text": [
            "/usr/local/lib/python3.9/dist-packages/joblib/externals/loky/process_executor.py:702: UserWarning: A worker stopped while some jobs were given to the executor. This can be caused by a too short worker timeout or by a memory leak.\n",
            "  warnings.warn(\n"
          ]
        },
        {
          "output_type": "stream",
          "name": "stdout",
          "text": [
            "SVM: 0.697 +/- 0.034\n",
            "RF: 0.492 +/- 0.061\n"
          ]
        }
      ],
      "source": [
        "# avaiiar os modelos candidatos\n",
        "results_scores_order = evaluate_each_model(models_dict, X_train, y_train, metric, cv)"
      ]
    },
    {
      "cell_type": "code",
      "execution_count": null,
      "metadata": {
        "colab": {
          "base_uri": "https://localhost:8080/"
        },
        "id": "o0p_gIfAgsIf",
        "outputId": "354ab46f-78e4-4a41-dee7-31f64fb13908"
      },
      "outputs": [
        {
          "output_type": "stream",
          "name": "stdout",
          "text": [
            "SVM: 0.697 +/- 0.034\n",
            "DT: 0.595 +/- 0.062\n",
            "RF: 0.492 +/- 0.061\n",
            "LR: 0.351 +/- 0.013\n"
          ]
        }
      ],
      "source": [
        "# imprimir resumo da performance dos modelos candidatos\n",
        "for result in results_scores_order:\n",
        "  print_summarize_performance(result['name'], result['mean'], result['std'])"
      ]
    },
    {
      "cell_type": "code",
      "execution_count": null,
      "metadata": {
        "id": "7tgWL8B8k6Af"
      },
      "outputs": [],
      "source": [
        "def plot_results(results_scores_order, filename):\n",
        "  names = []\n",
        "  scores = []\n",
        "  for result in results_scores_order:\n",
        "    scores.append(result['scores'])\n",
        "    names.append(result['name'])\n",
        "  plt.boxplot(scores, labels=names, showmeans=True)\n",
        "  plt.grid()\n",
        "  path = \"/content/drive/MyDrive/tcc/imagens/\"\n",
        "  path_filename = path + filename\n",
        "  plt.savefig(path_filename)\n",
        "  plt.show()"
      ]
    },
    {
      "cell_type": "code",
      "execution_count": null,
      "metadata": {
        "colab": {
          "base_uri": "https://localhost:8080/",
          "height": 265
        },
        "id": "d2asI8cumLxM",
        "outputId": "b61a2701-3152-4b16-c1d3-587d5594a33f"
      },
      "outputs": [
        {
          "output_type": "display_data",
          "data": {
            "text/plain": [
              "<Figure size 432x288 with 1 Axes>"
            ],
            "image/png": "[encoded data removed]"
          },
          "metadata": {
            "needs_background": "light"
          }
        }
      ],
      "source": [
        "# plotar o resumo da performance dos modelos candidatos\n",
        "plot_results(results_scores_order, \"comparativo_modelos_candidatos\")"
      ]
    },
    {
      "cell_type": "code",
      "execution_count": null,
      "metadata": {
        "id": "4ibSDoFbmNBR"
      },
      "outputs": [],
      "source": [
        "# selecionar o modelo canditado com a melhor performance com base na métrica definida\n",
        "model_select = results_scores_order[0]['model']"
      ]
    },
    {
      "cell_type": "code",
      "execution_count": null,
      "metadata": {
        "colab": {
          "base_uri": "https://localhost:8080/",
          "height": 75
        },
        "id": "P48gkUDXmOzU",
        "outputId": "0e1071f9-da90-4282-ffd5-bceb655a93dc"
      },
      "outputs": [
        {
          "output_type": "execute_result",
          "data": {
            "text/plain": [
              "SVC(class_weight='balanced', probability=True)"
            ],
            "text/html": [
              "<style>#sk-container-id-2 {color: black;background-color: white;}#sk-container-id-2 pre{padding: 0;}#sk-container-id-2 div.sk-toggleable {background-color: white;}#sk-container-id-2 label.sk-toggleable__label {cursor: pointer;display: block;width: 100%;margin-bottom: 0;padding: 0.3em;box-sizing: border-box;text-align: center;}#sk-container-id-2 label.sk-toggleable__label-arrow:before {content: \"▸\";float: left;margin-right: 0.25em;color: #696969;}#sk-container-id-2 label.sk-toggleable__label-arrow:hover:before {color: black;}#sk-container-id-2 div.sk-estimator:hover label.sk-toggleable__label-arrow:before {color: black;}#sk-container-id-2 div.sk-toggleable__content {max-height: 0;max-width: 0;overflow: hidden;text-align: left;background-color: #f0f8ff;}#sk-container-id-2 div.sk-toggleable__content pre {margin: 0.2em;color: black;border-radius: 0.25em;background-color: #f0f8ff;}#sk-container-id-2 input.sk-toggleable__control:checked~div.sk-toggleable__content {max-height: 200px;max-width: 100%;overflow: auto;}#sk-container-id-2 input.sk-toggleable__control:checked~label.sk-toggleable__label-arrow:before {content: \"▾\";}#sk-container-id-2 div.sk-estimator input.sk-toggleable__control:checked~label.sk-toggleable__label {background-color: #d4ebff;}#sk-container-id-2 div.sk-label input.sk-toggleable__control:checked~label.sk-toggleable__label {background-color: #d4ebff;}#sk-container-id-2 input.sk-hidden--visually {border: 0;clip: rect(1px 1px 1px 1px);clip: rect(1px, 1px, 1px, 1px);height: 1px;margin: -1px;overflow: hidden;padding: 0;position: absolute;width: 1px;}#sk-container-id-2 div.sk-estimator {font-family: monospace;background-color: #f0f8ff;border: 1px dotted black;border-radius: 0.25em;box-sizing: border-box;margin-bottom: 0.5em;}#sk-container-id-2 div.sk-estimator:hover {background-color: #d4ebff;}#sk-container-id-2 div.sk-parallel-item::after {content: \"\";width: 100%;border-bottom: 1px solid gray;flex-grow: 1;}#sk-container-id-2 div.sk-label:hover label.sk-toggleable__label {background-color: #d4ebff;}#sk-container-id-2 div.sk-serial::before {content: \"\";position: absolute;border-left: 1px solid gray;box-sizing: border-box;top: 0;bottom: 0;left: 50%;z-index: 0;}#sk-container-id-2 div.sk-serial {display: flex;flex-direction: column;align-items: center;background-color: white;padding-right: 0.2em;padding-left: 0.2em;position: relative;}#sk-container-id-2 div.sk-item {position: relative;z-index: 1;}#sk-container-id-2 div.sk-parallel {display: flex;align-items: stretch;justify-content: center;background-color: white;position: relative;}#sk-container-id-2 div.sk-item::before, #sk-container-id-2 div.sk-parallel-item::before {content: \"\";position: absolute;border-left: 1px solid gray;box-sizing: border-box;top: 0;bottom: 0;left: 50%;z-index: -1;}#sk-container-id-2 div.sk-parallel-item {display: flex;flex-direction: column;z-index: 1;position: relative;background-color: white;}#sk-container-id-2 div.sk-parallel-item:first-child::after {align-self: flex-end;width: 50%;}#sk-container-id-2 div.sk-parallel-item:last-child::after {align-self: flex-start;width: 50%;}#sk-container-id-2 div.sk-parallel-item:only-child::after {width: 0;}#sk-container-id-2 div.sk-dashed-wrapped {border: 1px dashed gray;margin: 0 0.4em 0.5em 0.4em;box-sizing: border-box;padding-bottom: 0.4em;background-color: white;}#sk-container-id-2 div.sk-label label {font-family: monospace;font-weight: bold;display: inline-block;line-height: 1.2em;}#sk-container-id-2 div.sk-label-container {text-align: center;}#sk-container-id-2 div.sk-container {/* jupyter's `normalize.less` sets `[hidden] { display: none; }` but bootstrap.min.css set `[hidden] { display: none !important; }` so we also need the `!important` here to be able to override the default hidden behavior on the sphinx rendered scikit-learn.org. See: https://github.com/scikit-learn/scikit-learn/issues/21755 */display: inline-block !important;position: relative;}#sk-container-id-2 div.sk-text-repr-fallback {display: none;}</style><div id=\"sk-container-id-2\" class=\"sk-top-container\"><div class=\"sk-text-repr-fallback\"><pre>SVC(class_weight=&#x27;balanced&#x27;, probability=True)</pre><b>In a Jupyter environment, please rerun this cell to show the HTML representation or trust the notebook. <br />On GitHub, the HTML representation is unable to render, please try loading this page with nbviewer.org.</b></div><div class=\"sk-container\" hidden><div class=\"sk-item\"><div class=\"sk-estimator sk-toggleable\"><input class=\"sk-toggleable__control sk-hidden--visually\" id=\"sk-estimator-id-2\" type=\"checkbox\" checked><label for=\"sk-estimator-id-2\" class=\"sk-toggleable__label sk-toggleable__label-arrow\">SVC</label><div class=\"sk-toggleable__content\"><pre>SVC(class_weight=&#x27;balanced&#x27;, probability=True)</pre></div></div></div></div></div>"
            ]
          },
          "metadata": {},
          "execution_count": 28
        }
      ],
      "source": [
        "# treinar o modelo selecionado com os dados de treinamento\n",
        "model_select.fit(X_train, y_train)"
      ]
    },
    {
      "cell_type": "code",
      "execution_count": null,
      "metadata": {
        "id": "zzAv46xTnu7e"
      },
      "outputs": [],
      "source": [
        "def save_model(model, filename):\n",
        "  path = \"/content/drive/MyDrive/tcc/models/\"\n",
        "  path_filename = path + filename\n",
        "  dump(model, path_filename)\n",
        "  print(\"Modelo selecionado salvo\")"
      ]
    },
    {
      "cell_type": "code",
      "execution_count": null,
      "metadata": {
        "id": "v6xVRROMnUJA",
        "colab": {
          "base_uri": "https://localhost:8080/"
        },
        "outputId": "85f54ce7-f10b-4726-f359-a72380cc9e9d"
      },
      "outputs": [
        {
          "output_type": "stream",
          "name": "stdout",
          "text": [
            "Modelo selecionado salvo\n"
          ]
        }
      ],
      "source": [
        "# salvar modelo\n",
        "save_model(model_select, 'model_select_version1.sav')"
      ]
    }
  ],
  "metadata": {
    "colab": {
      "provenance": [],
      "mount_file_id": "1Kx4e-4VuBPICST60hlCeh3V5aHjIAWdJ",
      "authorship_tag": "ABX9TyNPFLHABolqQaLrPSsuxmtg",
      "include_colab_link": true
    },
    "kernelspec": {
      "display_name": "Python 3",
      "name": "python3"
    },
    "language_info": {
      "name": "python"
    }
  },
  "nbformat": 4,
  "nbformat_minor": 0
}